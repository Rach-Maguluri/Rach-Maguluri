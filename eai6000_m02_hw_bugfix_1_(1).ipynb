{
  "nbformat": 4,
  "nbformat_minor": 0,
  "metadata": {
    "colab": {
      "provenance": [],
      "toc_visible": true,
      "include_colab_link": true
    },
    "kernelspec": {
      "name": "python3",
      "display_name": "Python 3"
    },
    "language_info": {
      "name": "python"
    }
  },
  "cells": [
    {
      "cell_type": "markdown",
      "metadata": {
        "id": "view-in-github",
        "colab_type": "text"
      },
      "source": [
        "<a href=\"https://colab.research.google.com/github/Rach-Maguluri/Rach-Maguluri/blob/main/eai6000_m02_hw_bugfix_1_(1).ipynb\" target=\"_parent\"><img src=\"https://colab.research.google.com/assets/colab-badge.svg\" alt=\"Open In Colab\"/></a>"
      ]
    },
    {
      "cell_type": "markdown",
      "metadata": {
        "id": "dB4_y4GBm0tt"
      },
      "source": [
        "# A-Star Search Algorithm"
      ]
    },
    {
      "cell_type": "markdown",
      "metadata": {
        "id": "hRmWMPwTm5Ob"
      },
      "source": [
        "This notebook complements the walkthrough article [here](https://towardsdatascience.com/a-star-a-search-algorithm-eb495fb156bb) on the A-Star search algorithm. Throughout the notebook, we ask to you finish sections on your own and answer questions."
      ]
    },
    {
      "cell_type": "markdown",
      "metadata": {
        "id": "auBnTGWHoMle"
      },
      "source": [
        "## [Question - Describe A*]\n",
        "Describe A* search in your own words\n",
        "A* search is like playing a game where I have to find the fastest way from the start to the finish line. It tries different paths and uses a special trick to guess which path will get me there fastest without having to try them all. It keeps guessing and checking until it finds the best path.\n",
        "\n",
        "\n",
        "\n",
        "\n",
        "\n",
        "\n",
        "\n",
        "\n",
        "\n",
        "\n",
        "\n"
      ]
    },
    {
      "cell_type": "markdown",
      "metadata": {
        "id": "FsP7pSLAoooN"
      },
      "source": [
        "## [Question - Describe h and g]\n",
        "In A* search, describe the two key elements of *f(n)* (namely *h(n)* and *g(n)*). What do they represent in the algorithm and how do they differ?"
      ]
    },
    {
      "cell_type": "markdown",
      "metadata": {
        "id": "-_VkEgNWuMDK"
      },
      "source": [
        "## [Activity - run Node]\n",
        "Examine and run the below code."
      ]
    },
    {
      "cell_type": "code",
      "metadata": {
        "id": "ufRvBVJBmmxA"
      },
      "source": [
        "\n",
        "class Node():\n",
        "    \"\"\"A node class for A* Pathfinding\"\"\"\n",
        "\n",
        "    def __init__(self, parent=None, position=None):\n",
        "        self.parent = parent\n",
        "        self.position = position\n",
        "\n",
        "        self.g = 0\n",
        "        self.h = 0\n",
        "        self.f = 0\n",
        "\n",
        "    def __eq__(self, other):\n",
        "        return self.position == other.position"
      ],
      "execution_count": 2,
      "outputs": []
    },
    {
      "cell_type": "markdown",
      "metadata": {
        "id": "Ucsmb_lfuTrp"
      },
      "source": [
        "## [Question - Explain 'Node']\n",
        "In your own words, describe what the purpose of the *Node* class is. Why do we have to initialize a parent and a position?\n",
        "I would like to think of the Node class as a page in a travel diary for a road trip. Each page (node) records a specific place I have visited (position), and mentions the last place I was at (parent). This way, I can look back through my diary to see the entire route I have traveled. The Node class helps the A* search keep track of my journey, step by step, as it searches for the best route to the destination."
      ]
    },
    {
      "cell_type": "markdown",
      "metadata": {
        "id": "B6s0TVMuur8t"
      },
      "source": [
        "## [Activity - Run astar() ]"
      ]
    },
    {
      "cell_type": "code",
      "metadata": {
        "id": "wYzrkdjZpxZs"
      },
      "source": [
        "def astar(maze, start, end):\n",
        "    \"\"\"Returns a list of tuples as a path from the given start to the given end in the given maze\"\"\"\n",
        "\n",
        "    # Create start and end node\n",
        "    start_node = Node(None, start)\n",
        "    start_node.g = start_node.h = start_node.f = 0\n",
        "    end_node = Node(None, end)\n",
        "    end_node.g = end_node.h = end_node.f = 0\n",
        "\n",
        "    # Initialize both open and closed list\n",
        "    open_list = []\n",
        "    closed_list = []\n",
        "\n",
        "    # Add the start node\n",
        "    open_list.append(start_node)\n",
        "\n",
        "    # Loop until you find the end\n",
        "    while len(open_list) > 0:\n",
        "\n",
        "        # Get the current node\n",
        "        current_node = open_list[0]\n",
        "        current_index = 0\n",
        "        for index, item in enumerate(open_list):\n",
        "            if item.f < current_node.f:\n",
        "                current_node = item\n",
        "                current_index = index\n",
        "\n",
        "        # Pop current off open list, add to closed list\n",
        "        open_list.pop(current_index)\n",
        "        closed_list.append(current_node)\n",
        "\n",
        "        # Found the goal\n",
        "        if current_node == end_node:\n",
        "            path = []\n",
        "            current = current_node\n",
        "            while current is not None:\n",
        "                path.append(current.position)\n",
        "                current = current.parent\n",
        "            return path[::-1] # Return reversed path\n",
        "\n",
        "        # Generate children\n",
        "        children = []\n",
        "        for new_position in [(0, -1), (0, 1), (-1, 0), (1, 0), (-1, -1), (-1, 1), (1, -1), (1, 1)]: # Adjacent squares\n",
        "\n",
        "            # Get node position\n",
        "            node_position = (current_node.position[0] + new_position[0], current_node.position[1] + new_position[1])\n",
        "\n",
        "            # Make sure within range\n",
        "            if node_position[0] > (len(maze) - 1) or node_position[0] < 0 or node_position[1] > (len(maze[len(maze)-1]) -1) or node_position[1] < 0:\n",
        "                continue\n",
        "\n",
        "            # Make sure walkable terrain\n",
        "            if maze[node_position[0]][node_position[1]] != 0:\n",
        "                continue\n",
        "\n",
        "            # Create new node\n",
        "            new_node = Node(current_node, node_position)\n",
        "\n",
        "            # Append\n",
        "            children.append(new_node)\n",
        "\n",
        "        # Loop through children\n",
        "        for child in children:\n",
        "\n",
        "            # Child is on the closed list\n",
        "            if child in closed_list:\n",
        "              continue\n",
        "\n",
        "            # Create the f, g, and h values\n",
        "            child.g = current_node.g + 1\n",
        "            child.h = ((child.position[0] - end_node.position[0]) ** 2) + ((child.position[1] - end_node.position[1]) ** 2)\n",
        "            child.f = child.g + child.h\n",
        "\n",
        "            # Child is already in the open list\n",
        "            for open_node in open_list:\n",
        "                if child == open_node and child.g > open_node.g:\n",
        "                    continue\n",
        "\n",
        "            # Add the child to the open list\n",
        "            open_list.append(child)\n"
      ],
      "execution_count": 3,
      "outputs": []
    },
    {
      "cell_type": "markdown",
      "metadata": {
        "id": "hral7UX2vF0z"
      },
      "source": [
        "## [Question - Explain maze]\n",
        "What type of input should value of *maze* be?\n",
        "The value of a maze should be a grid or a list of lists, where each inner list corresponds to a maze row. For open areas, we should use 0s, while for barriers, we should use 1.\n"
      ]
    },
    {
      "cell_type": "markdown",
      "metadata": {
        "id": "EcB70Wbet1-w"
      },
      "source": [
        "## [Question - Build Main]\n",
        "Please use the above code that uses the astar() function to define a path from the beginning to the end of a maze. You can choose how the maze looks and where the start and end are.\n",
        "\n",
        "Here I have defined the following maze as a 5x5 grid, where the top left corner is the start (0, 4), and the bottom right corner is the end (4, 0)"
      ]
    },
    {
      "cell_type": "code",
      "metadata": {
        "id": "MY8tTsSbt1XE",
        "colab": {
          "base_uri": "https://localhost:8080/"
        },
        "outputId": "525f66b2-2cc7-42a2-c803-d74440889270"
      },
      "source": [
        "class Node():\n",
        "    def __init__(self, parent=None, position=None):\n",
        "        self.parent = parent\n",
        "        self.position = position\n",
        "        self.g = 0\n",
        "        self.h = 0\n",
        "        self.f = 0\n",
        "\n",
        "    def __eq__(self, other):\n",
        "        return self.position == other.position\n",
        "maze = [\n",
        "    [0, 1, 0, 0, 0],\n",
        "    [0, 1, 0, 1, 0],\n",
        "    [0, 0, 0, 1, 0],\n",
        "    [0, 1, 1, 1, 0],\n",
        "    [0, 0, 0, 0, 0]\n",
        "]\n",
        "\n",
        "start = (0, 4)  # Top left corner (start of the maze)\n",
        "end = (4, 0)    # Bottom right corner (end of the maze)\n",
        "\n",
        "path = astar(maze, start, end)\n",
        "print(path)\n"
      ],
      "execution_count": 6,
      "outputs": [
        {
          "output_type": "stream",
          "name": "stdout",
          "text": [
            "[(0, 4), (0, 3), (1, 2), (2, 1), (3, 0), (4, 0)]\n"
          ]
        }
      ]
    },
    {
      "cell_type": "markdown",
      "metadata": {
        "id": "_t_M9LWSwc79"
      },
      "source": [
        "## [Question - Impossible Maze]\n",
        "Now create a maze that the algorithm cannot solve. What is the output of the algorithm?\n",
        "Placing walls (1s) immediately surrounding the start or end point is one technique to build an unsolvable maze since it makes it difficult to advance from the starting location or to reach the final position. Three barriers enclose the starting location (0, 0), and the only accessible path ends in a dead end.\n",
        "\n",
        "This maze will rapidly reveal to the A* algorithm that there are no open paths to add to the open_list. Consequently, following a few rounds, the open_list will be empty and the function will exit without identifying a path.\n",
        "\n",
        "The outcome would be None or an implied lack of return, signifying that no path that made sense could be located."
      ]
    },
    {
      "cell_type": "code",
      "metadata": {
        "id": "yoQ3fuVbwnuv",
        "colab": {
          "base_uri": "https://localhost:8080/",
          "height": 141
        },
        "outputId": "b9102c9e-d73b-40b0-b555-0149877c7fb2"
      },
      "source": [
        "# Defining the Node class as used by the A* algorithm\n",
        "class Node():\n",
        "    def __init__(self, parent=None, position=None):\n",
        "        self.parent = parent\n",
        "        self.position = position\n",
        "        self.g = 0\n",
        "        self.h = 0\n",
        "        self.f = 0\n",
        "\n",
        "    def __eq__(self, other):\n",
        "        return self.position == other.position\n",
        "\n",
        "# Defining the A* algorithm\n",
        "def astar(maze, start, end):\n",
        "    # ... [The rest of your A* function as provided earlier] ...\n",
        "\n",
        "# Defining an unsolvable maze where the start and end points are surrounded by walls\n",
        "unsolvable_maze = [\n",
        "    [0, 1, 1, 1, 1],\n",
        "    [0, 1, 0, 0, 0],\n",
        "    [0, 0, 0, 1, 0],\n",
        "    [1, 0, 0, 1, 0],\n",
        "    [1, 1, 0, 1, 0]\n",
        "]\n",
        "\n",
        "# Setting the start and end points\n",
        "start = (0, 0)  # Start at the top-left corner\n",
        "end = (4, 4)    # End at the bottom-right corner\n",
        "\n",
        "# Attempting to find a path using the A* algorithm\n",
        "path = astar(unsolvable_maze, start, end)\n",
        "\n",
        "# Output the result\n",
        "if path:\n",
        "    print(\"Path found:\", path)\n",
        "else:\n",
        "    print(\"No path found\")\n"
      ],
      "execution_count": 7,
      "outputs": [
        {
          "output_type": "error",
          "ename": "IndentationError",
          "evalue": "ignored",
          "traceback": [
            "\u001b[0;36m  File \u001b[0;32m\"<ipython-input-7-7b46ab579878>\"\u001b[0;36m, line \u001b[0;32m18\u001b[0m\n\u001b[0;31m    unsolvable_maze = [\u001b[0m\n\u001b[0m    ^\u001b[0m\n\u001b[0;31mIndentationError\u001b[0m\u001b[0;31m:\u001b[0m expected an indented block after function definition on line 14\n"
          ]
        }
      ]
    }
  ]
}